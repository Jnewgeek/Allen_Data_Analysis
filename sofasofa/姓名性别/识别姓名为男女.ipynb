{
 "cells": [
  {
   "cell_type": "markdown",
   "metadata": {},
   "source": [
    "## 背景介绍:\n",
    "\n",
    "我们每天会接触不同的人，有热情的面孔，也有冰冷的名片。作为一个说着中国话的中国人，我们有着常年累月的积累和对文字的理解，通过名字判断（猜测）性别，并非难事。可是，对于一个冰冷的机器，它能够根据名字判断性别吗？这个练习赛就是根据中文名字（姓已经省略），判断性别"
   ]
  },
  {
   "cell_type": "code",
   "execution_count": 1,
   "metadata": {},
   "outputs": [],
   "source": [
    "# 读取文件\n",
    "\n",
    "import pandas as pd\n",
    "from collections import defaultdict\n",
    "import math\n",
    "\n",
    "# 读取train.txt\n",
    "train = pd.read_csv(r'./data/train.txt')\n",
    "test = pd.read_csv(r'./data/test.txt')\n",
    "submit = pd.read_csv(r'./data/sample_submit.csv')"
   ]
  },
  {
   "cell_type": "code",
   "execution_count": 3,
   "metadata": {},
   "outputs": [
    {
     "data": {
      "text/html": [
       "<div>\n",
       "<style scoped>\n",
       "    .dataframe tbody tr th:only-of-type {\n",
       "        vertical-align: middle;\n",
       "    }\n",
       "\n",
       "    .dataframe tbody tr th {\n",
       "        vertical-align: top;\n",
       "    }\n",
       "\n",
       "    .dataframe thead th {\n",
       "        text-align: right;\n",
       "    }\n",
       "</style>\n",
       "<table border=\"1\" class=\"dataframe\">\n",
       "  <thead>\n",
       "    <tr style=\"text-align: right;\">\n",
       "      <th></th>\n",
       "      <th>id</th>\n",
       "      <th>name</th>\n",
       "      <th>gender</th>\n",
       "    </tr>\n",
       "  </thead>\n",
       "  <tbody>\n",
       "    <tr>\n",
       "      <th>0</th>\n",
       "      <td>1</td>\n",
       "      <td>闳家</td>\n",
       "      <td>1</td>\n",
       "    </tr>\n",
       "    <tr>\n",
       "      <th>1</th>\n",
       "      <td>2</td>\n",
       "      <td>玉璎</td>\n",
       "      <td>0</td>\n",
       "    </tr>\n",
       "    <tr>\n",
       "      <th>2</th>\n",
       "      <td>3</td>\n",
       "      <td>于邺</td>\n",
       "      <td>1</td>\n",
       "    </tr>\n",
       "    <tr>\n",
       "      <th>3</th>\n",
       "      <td>4</td>\n",
       "      <td>越英</td>\n",
       "      <td>0</td>\n",
       "    </tr>\n",
       "    <tr>\n",
       "      <th>4</th>\n",
       "      <td>5</td>\n",
       "      <td>蕴萱</td>\n",
       "      <td>0</td>\n",
       "    </tr>\n",
       "    <tr>\n",
       "      <th>5</th>\n",
       "      <td>6</td>\n",
       "      <td>子颀</td>\n",
       "      <td>0</td>\n",
       "    </tr>\n",
       "    <tr>\n",
       "      <th>6</th>\n",
       "      <td>7</td>\n",
       "      <td>靖曦</td>\n",
       "      <td>0</td>\n",
       "    </tr>\n",
       "    <tr>\n",
       "      <th>7</th>\n",
       "      <td>8</td>\n",
       "      <td>鲁莱</td>\n",
       "      <td>1</td>\n",
       "    </tr>\n",
       "    <tr>\n",
       "      <th>8</th>\n",
       "      <td>9</td>\n",
       "      <td>永远</td>\n",
       "      <td>1</td>\n",
       "    </tr>\n",
       "    <tr>\n",
       "      <th>9</th>\n",
       "      <td>10</td>\n",
       "      <td>红孙</td>\n",
       "      <td>1</td>\n",
       "    </tr>\n",
       "  </tbody>\n",
       "</table>\n",
       "</div>"
      ],
      "text/plain": [
       "   id name  gender\n",
       "0   1   闳家       1\n",
       "1   2   玉璎       0\n",
       "2   3   于邺       1\n",
       "3   4   越英       0\n",
       "4   5   蕴萱       0\n",
       "5   6   子颀       0\n",
       "6   7   靖曦       0\n",
       "7   8   鲁莱       1\n",
       "8   9   永远       1\n",
       "9  10   红孙       1"
      ]
     },
     "execution_count": 3,
     "metadata": {},
     "output_type": "execute_result"
    }
   ],
   "source": [
    "train.head(10)"
   ]
  },
  {
   "cell_type": "code",
   "execution_count": 4,
   "metadata": {},
   "outputs": [],
   "source": [
    "# 把数据分为男女两部分\n",
    "names_female = train[train['gender'] == 0]\n",
    "names_male = train[train['gender'] == 1]\n",
    "\n",
    "# totals用来存放训练集中女生、男生的总数\n",
    "totals = {'f': len(names_female),\n",
    "          'm': len(names_male)}"
   ]
  },
  {
   "cell_type": "markdown",
   "metadata": {},
   "source": [
    "分别计算在所有女生（男生）的名字当中，某个字出现的频率。这一步相当于是计算 P(Xi|女生)和P(Xi|男生)"
   ]
  },
  {
   "cell_type": "code",
   "execution_count": 5,
   "metadata": {},
   "outputs": [],
   "source": [
    "frequency_list_f = defaultdict(int)\n",
    "for name in names_female['name']:\n",
    "    for char in name:\n",
    "        frequency_list_f[char] += 1. / totals['f']\n",
    "\n",
    "frequency_list_m = defaultdict(int)\n",
    "for name in names_male['name']:\n",
    "    for char in name:\n",
    "        frequency_list_m[char] += 1. / totals['m']"
   ]
  },
  {
   "cell_type": "code",
   "execution_count": 7,
   "metadata": {},
   "outputs": [
    {
     "name": "stdout",
     "output_type": "stream",
     "text": [
      "娟: 0.414401%, 钢: 0.062997%\n"
     ]
    }
   ],
   "source": [
    "print('娟: %.6f%%, 钢: %.6f%%'%(frequency_list_f['娟']*100,frequency_list_m['钢']*100))"
   ]
  },
  {
   "cell_type": "markdown",
   "metadata": {},
   "source": [
    "上面两个例子说明P(名字中含有娟|女生)=0.004144，P(名字中含有钢|男生)=0.0006299\n",
    "考虑到预测集中可能会有汉字并没有出现在训练集中，所以我们需要对频率进行Laplace平滑（什么是Laplace平滑）。"
   ]
  },
  {
   "cell_type": "code",
   "execution_count": 8,
   "metadata": {},
   "outputs": [],
   "source": [
    "def LaplaceSmooth(char, frequency_list, total, alpha=1.0):\n",
    "    count = frequency_list[char] * total\n",
    "    distinct_chars = len(frequency_list)\n",
    "    freq_smooth = (count + alpha ) / (total + distinct_chars * alpha)\n",
    "    return freq_smooth"
   ]
  },
  {
   "cell_type": "code",
   "execution_count": 9,
   "metadata": {},
   "outputs": [
    {
     "data": {
      "text/plain": [
       "{'f': -2.7979656779961717, 'm': -2.5689473462479535}"
      ]
     },
     "execution_count": 9,
     "metadata": {},
     "output_type": "execute_result"
    }
   ],
   "source": [
    "base_f = math.log(1 - train['gender'].mean())\n",
    "base_f += sum([math.log(1 - frequency_list_f[char]) for char in frequency_list_f])\n",
    "\n",
    "base_m = math.log(train['gender'].mean())\n",
    "base_m += sum([math.log(1 - frequency_list_m[char]) for char in frequency_list_m])\n",
    "\n",
    "bases = {'f': base_f, 'm': base_m}\n",
    "bases"
   ]
  },
  {
   "cell_type": "markdown",
   "metadata": {},
   "source": [
    "对于logP(Xi=1|Y)−logP(Xi=0|Y)部分，我们利用如下函数计算"
   ]
  },
  {
   "cell_type": "code",
   "execution_count": 13,
   "metadata": {},
   "outputs": [],
   "source": [
    "def GetLogProb(char, frequency_list, total):\n",
    "    freq_smooth = LaplaceSmooth(char, frequency_list, total)\n",
    "    return math.log(freq_smooth) - math.log(1 - freq_smooth)"
   ]
  },
  {
   "cell_type": "code",
   "execution_count": 14,
   "metadata": {},
   "outputs": [],
   "source": [
    "def ComputeLogProb(name, bases, totals, frequency_list_m, frequency_list_f):\n",
    "    logprob_m = bases['m']\n",
    "    logprob_f = bases['f']\n",
    "    for char in name:\n",
    "        logprob_m += GetLogProb(char, frequency_list_m, totals['m'])\n",
    "        logprob_f += GetLogProb(char, frequency_list_f, totals['f'])\n",
    "    return {'male': logprob_m, 'female': logprob_f}\n",
    "\n",
    "def GetGender(LogProbs):\n",
    "    return LogProbs['male'] > LogProbs['female']\n",
    "\n",
    "result = []\n",
    "for name in test['name']:\n",
    "    LogProbs = ComputeLogProb(name, bases, totals, frequency_list_m, frequency_list_f)\n",
    "    gender = GetGender(LogProbs)\n",
    "    result.append(int(gender))\n",
    "\n",
    "submit['gender'] = result\n",
    "\n",
    "submit.to_csv('my_NB_prediction.csv', index=False)"
   ]
  },
  {
   "cell_type": "markdown",
   "metadata": {},
   "source": [
    "## 高频单字划分法(Python)\n",
    "该模型预测结果的准确度为：0.70509"
   ]
  },
  {
   "cell_type": "code",
   "execution_count": 2,
   "metadata": {},
   "outputs": [],
   "source": [
    "import numpy as np\n",
    "from collections import Counter\n",
    "from sklearn.model_selection import train_test_split\n",
    "from sklearn.metrics import classification_report\n",
    "from sklearn.metrics import confusion_matrix\n",
    "import seaborn as sns\n",
    "sns.set()\n",
    "\n",
    "# 划分数据集\n",
    "X_train,X_test=train_test_split(train,random_state=42)\n",
    "\n",
    "# 所有男生的名字\n",
    "train_male = X_train[X_train['gender'] == 1]\n",
    "names_male = \"\".join(train_male['name'])\n",
    "\n",
    "# 所有女生的名字\n",
    "train_female = X_train[X_train['gender'] == 0]\n",
    "names_female = \"\".join(train_female['name'])\n",
    "\n",
    "# 所有男生的名字中频率最高的250个字top_chars_male\n",
    "# 所有女生的名字中频率最高的250个字top_chars_female\n",
    "n_top = 250\n",
    "#lists_male = map(lambda x: x.encode('utf-8'), names_male.decode('utf-8'))\n",
    "counts_male = Counter(names_male).most_common(n_top)\n",
    "top_chars_male = []\n",
    "for [x, y] in counts_male:\n",
    "    top_chars_male.append(x)\n",
    "#lists_female = map(lambda x: x.encode('utf-8'), names_female.decode('utf-8'))\n",
    "counts_female = Counter(names_female).most_common(n_top)\n",
    "top_chars_female = []\n",
    "for [x, y] in counts_female:\n",
    "    top_chars_female.append(x)\n",
    "    \n",
    "# 去除top_chars_male和top_chars_female中重复的字\n",
    "intersects=set(top_chars_male)&set(top_chars_female)\n",
    "top_chars_male = set(top_chars_male) - intersects\n",
    "top_chars_female = set(top_chars_female) - intersects\n",
    "\n",
    "# 如果名字中包含top_chars_male中的字，那么预测性别为男\n",
    "# 否则查看名字中包含top_chars_female中的字，如果有，则预测性别为女\n",
    "# 再则，随机设置一个性别\n",
    "import warnings\n",
    "warnings.filterwarnings('ignore')\n",
    "preds=[]\n",
    "for i in X_test.index:\n",
    "    if any(s in X_test.loc[i,'name'] for s in top_chars_male):\n",
    "        preds.append(1)#X_test.loc[i,'name'] = 1\n",
    "    elif any(s in X_test.loc[i,'name'] for s in top_chars_female):\n",
    "        preds.append(0)\n",
    "    else:\n",
    "        preds.append(np.random.choice(2))"
   ]
  },
  {
   "cell_type": "code",
   "execution_count": 4,
   "metadata": {
    "scrolled": true
   },
   "outputs": [
    {
     "data": {
      "text/html": [
       "<div>\n",
       "<style scoped>\n",
       "    .dataframe tbody tr th:only-of-type {\n",
       "        vertical-align: middle;\n",
       "    }\n",
       "\n",
       "    .dataframe tbody tr th {\n",
       "        vertical-align: top;\n",
       "    }\n",
       "\n",
       "    .dataframe thead th {\n",
       "        text-align: right;\n",
       "    }\n",
       "</style>\n",
       "<table border=\"1\" class=\"dataframe\">\n",
       "  <thead>\n",
       "    <tr style=\"text-align: right;\">\n",
       "      <th></th>\n",
       "      <th>id</th>\n",
       "      <th>name</th>\n",
       "      <th>gender</th>\n",
       "      <th>preds</th>\n",
       "    </tr>\n",
       "  </thead>\n",
       "  <tbody>\n",
       "    <tr>\n",
       "      <th>71787</th>\n",
       "      <td>71788</td>\n",
       "      <td>卓仁</td>\n",
       "      <td>1</td>\n",
       "      <td>1</td>\n",
       "    </tr>\n",
       "    <tr>\n",
       "      <th>67218</th>\n",
       "      <td>67219</td>\n",
       "      <td>勋平</td>\n",
       "      <td>1</td>\n",
       "      <td>1</td>\n",
       "    </tr>\n",
       "    <tr>\n",
       "      <th>54066</th>\n",
       "      <td>54067</td>\n",
       "      <td>允</td>\n",
       "      <td>0</td>\n",
       "      <td>1</td>\n",
       "    </tr>\n",
       "    <tr>\n",
       "      <th>7168</th>\n",
       "      <td>7169</td>\n",
       "      <td>莹蓝</td>\n",
       "      <td>0</td>\n",
       "      <td>0</td>\n",
       "    </tr>\n",
       "    <tr>\n",
       "      <th>29618</th>\n",
       "      <td>29619</td>\n",
       "      <td>妆戆</td>\n",
       "      <td>0</td>\n",
       "      <td>1</td>\n",
       "    </tr>\n",
       "    <tr>\n",
       "      <th>101425</th>\n",
       "      <td>101426</td>\n",
       "      <td>中红</td>\n",
       "      <td>1</td>\n",
       "      <td>1</td>\n",
       "    </tr>\n",
       "    <tr>\n",
       "      <th>20441</th>\n",
       "      <td>20442</td>\n",
       "      <td>悛耀</td>\n",
       "      <td>1</td>\n",
       "      <td>1</td>\n",
       "    </tr>\n",
       "    <tr>\n",
       "      <th>2662</th>\n",
       "      <td>2663</td>\n",
       "      <td>丽凤</td>\n",
       "      <td>0</td>\n",
       "      <td>0</td>\n",
       "    </tr>\n",
       "    <tr>\n",
       "      <th>20371</th>\n",
       "      <td>20372</td>\n",
       "      <td>荑宁</td>\n",
       "      <td>0</td>\n",
       "      <td>0</td>\n",
       "    </tr>\n",
       "    <tr>\n",
       "      <th>108151</th>\n",
       "      <td>108152</td>\n",
       "      <td>鸣闪</td>\n",
       "      <td>1</td>\n",
       "      <td>1</td>\n",
       "    </tr>\n",
       "  </tbody>\n",
       "</table>\n",
       "</div>"
      ],
      "text/plain": [
       "            id name  gender  preds\n",
       "71787    71788   卓仁       1      1\n",
       "67218    67219   勋平       1      1\n",
       "54066    54067    允       0      1\n",
       "7168      7169   莹蓝       0      0\n",
       "29618    29619   妆戆       0      1\n",
       "101425  101426   中红       1      1\n",
       "20441    20442   悛耀       1      1\n",
       "2662      2663   丽凤       0      0\n",
       "20371    20372   荑宁       0      0\n",
       "108151  108152   鸣闪       1      1"
      ]
     },
     "execution_count": 4,
     "metadata": {},
     "output_type": "execute_result"
    }
   ],
   "source": [
    "X_test[\"preds\"]=preds\n",
    "X_test.head(10)"
   ]
  },
  {
   "cell_type": "code",
   "execution_count": 20,
   "metadata": {},
   "outputs": [
    {
     "name": "stdout",
     "output_type": "stream",
     "text": [
      "              precision    recall  f1-score   support\n",
      "\n",
      "           0       0.67      0.72      0.69     13299\n",
      "           1       0.76      0.71      0.74     16701\n",
      "\n",
      "   micro avg       0.72      0.72      0.72     30000\n",
      "   macro avg       0.71      0.72      0.72     30000\n",
      "weighted avg       0.72      0.72      0.72     30000\n",
      "\n",
      "精确度: 0.7169333333333333\n"
     ]
    },
    {
     "data": {
      "image/png": "[encoded data removed]",
      "text/plain": [
       "<Figure size 432x288 with 1 Axes>"
      ]
     },
     "metadata": {
      "needs_background": "light"
     },
     "output_type": "display_data"
    }
   ],
   "source": [
    "import matplotlib.pyplot as plt\n",
    "from sklearn.metrics import accuracy_score\n",
    "\n",
    "def print_result(col1='gender',col2='preds'):\n",
    "    print(classification_report(X_test[col1], X_test[col2]))#,\n",
    "    #                            target_names=[0,1]))\n",
    "    print(\"精确度:\",accuracy_score(X_test[col1], X_test[col2]))\n",
    "\n",
    "    mat = confusion_matrix(X_test[col1], X_test[col2])\n",
    "    sns.heatmap(mat.T, square=True, annot=True, fmt='d', cbar=False,\n",
    "                xticklabels=[0,1],\n",
    "                yticklabels=[0,1])\n",
    "    plt.xlabel('true label')\n",
    "    plt.ylabel('predicted label')\n",
    "    plt.ylim([2,0])\n",
    "    \n",
    "print_result('gender','preds')"
   ]
  },
  {
   "cell_type": "markdown",
   "metadata": {},
   "source": [
    "## 基于TF的GBDT模型(Python)\n",
    "\n",
    "该模型预测结果的准确度为：0.83361"
   ]
  },
  {
   "cell_type": "code",
   "execution_count": 15,
   "metadata": {},
   "outputs": [
    {
     "name": "stdout",
     "output_type": "stream",
     "text": [
      "finished.\n"
     ]
    }
   ],
   "source": [
    "from sklearn.ensemble import GradientBoostingClassifier\n",
    "\n",
    "m_cnt = len(train_male)\n",
    "f_cnt = len(train_female)\n",
    "counts_male = Counter(names_male)\n",
    "counts_female = Counter(names_female)\n",
    "\n",
    "# 得到训练集中每个人的每个字的词频（Term Frequency，通常简称TF）\n",
    "train_encoded = []\n",
    "for i in X_train.index:\n",
    "    chs = X_train.loc[i, 'name']\n",
    "    row = [0., 0., 0., 0, X_train.loc[i, 'gender']]\n",
    "    for j in range(len(chs)):\n",
    "        row[2* j] = counts_female[chs[j]] * 1. / f_cnt\n",
    "        row[2* j + 1] = counts_male[chs[j]] * 1. / m_cnt\n",
    "    train_encoded.append(row)\n",
    "\n",
    "# 得到测试集中每个人的每个字的词频（Term Frequency，通常简称TF）\n",
    "test_encoded = []\n",
    "for i in X_test.index:\n",
    "    chs = X_test.loc[i, 'name']\n",
    "    row = [0., 0., 0., 0.,]\n",
    "    for j in range(len(chs)):\n",
    "        try:\n",
    "            row[2 * j] = counts_female[chs[j]] * 1. / f_cnt\n",
    "        except:\n",
    "            pass\n",
    "        try:\n",
    "            row[2 * j + 1] = counts_male[chs[j]] * 1. / m_cnt\n",
    "        except:\n",
    "            pass\n",
    "    test_encoded.append(row)\n",
    "\n",
    "# 转换为pandas.DataFrame的形式\n",
    "# 1_f是指这个人的第一个字在训练集中所有女生的字中出现的频率\n",
    "# 2_f是指这个人的第二个字在训练集中所有女生的字中出现的频率\n",
    "# 1_m是指这个人的第一个字在训练集中所有男生的字中出现的频率\n",
    "# 2_m是指这个人的第二个字在训练集中所有男生的字中出现的频率\n",
    "train_encoded = pd.DataFrame(train_encoded, columns=['1_f', '1_m', '2_f', '2_m', 'gender'])\n",
    "test_encoded = pd.DataFrame(test_encoded, columns=['1_f', '1_m', '2_f', '2_m'])\n",
    "\n",
    "# 训练GBDT模型\n",
    "clf = GradientBoostingClassifier()\n",
    "clf.fit(train_encoded.drop('gender', axis=1), train_encoded['gender'])\n",
    "preds = clf.predict(test_encoded)\n",
    "\n",
    "print('finished.')"
   ]
  },
  {
   "cell_type": "code",
   "execution_count": 19,
   "metadata": {},
   "outputs": [
    {
     "data": {
      "text/html": [
       "<div>\n",
       "<style scoped>\n",
       "    .dataframe tbody tr th:only-of-type {\n",
       "        vertical-align: middle;\n",
       "    }\n",
       "\n",
       "    .dataframe tbody tr th {\n",
       "        vertical-align: top;\n",
       "    }\n",
       "\n",
       "    .dataframe thead th {\n",
       "        text-align: right;\n",
       "    }\n",
       "</style>\n",
       "<table border=\"1\" class=\"dataframe\">\n",
       "  <thead>\n",
       "    <tr style=\"text-align: right;\">\n",
       "      <th></th>\n",
       "      <th>id</th>\n",
       "      <th>name</th>\n",
       "      <th>gender</th>\n",
       "      <th>preds</th>\n",
       "      <th>preds_1</th>\n",
       "    </tr>\n",
       "  </thead>\n",
       "  <tbody>\n",
       "    <tr>\n",
       "      <th>71787</th>\n",
       "      <td>71788</td>\n",
       "      <td>卓仁</td>\n",
       "      <td>1</td>\n",
       "      <td>1</td>\n",
       "      <td>1</td>\n",
       "    </tr>\n",
       "    <tr>\n",
       "      <th>67218</th>\n",
       "      <td>67219</td>\n",
       "      <td>勋平</td>\n",
       "      <td>1</td>\n",
       "      <td>1</td>\n",
       "      <td>1</td>\n",
       "    </tr>\n",
       "    <tr>\n",
       "      <th>54066</th>\n",
       "      <td>54067</td>\n",
       "      <td>允</td>\n",
       "      <td>0</td>\n",
       "      <td>1</td>\n",
       "      <td>0</td>\n",
       "    </tr>\n",
       "    <tr>\n",
       "      <th>7168</th>\n",
       "      <td>7169</td>\n",
       "      <td>莹蓝</td>\n",
       "      <td>0</td>\n",
       "      <td>0</td>\n",
       "      <td>0</td>\n",
       "    </tr>\n",
       "    <tr>\n",
       "      <th>29618</th>\n",
       "      <td>29619</td>\n",
       "      <td>妆戆</td>\n",
       "      <td>0</td>\n",
       "      <td>1</td>\n",
       "      <td>0</td>\n",
       "    </tr>\n",
       "    <tr>\n",
       "      <th>101425</th>\n",
       "      <td>101426</td>\n",
       "      <td>中红</td>\n",
       "      <td>1</td>\n",
       "      <td>1</td>\n",
       "      <td>1</td>\n",
       "    </tr>\n",
       "    <tr>\n",
       "      <th>20441</th>\n",
       "      <td>20442</td>\n",
       "      <td>悛耀</td>\n",
       "      <td>1</td>\n",
       "      <td>1</td>\n",
       "      <td>1</td>\n",
       "    </tr>\n",
       "    <tr>\n",
       "      <th>2662</th>\n",
       "      <td>2663</td>\n",
       "      <td>丽凤</td>\n",
       "      <td>0</td>\n",
       "      <td>0</td>\n",
       "      <td>0</td>\n",
       "    </tr>\n",
       "    <tr>\n",
       "      <th>20371</th>\n",
       "      <td>20372</td>\n",
       "      <td>荑宁</td>\n",
       "      <td>0</td>\n",
       "      <td>0</td>\n",
       "      <td>0</td>\n",
       "    </tr>\n",
       "    <tr>\n",
       "      <th>108151</th>\n",
       "      <td>108152</td>\n",
       "      <td>鸣闪</td>\n",
       "      <td>1</td>\n",
       "      <td>1</td>\n",
       "      <td>1</td>\n",
       "    </tr>\n",
       "  </tbody>\n",
       "</table>\n",
       "</div>"
      ],
      "text/plain": [
       "            id name  gender  preds  preds_1\n",
       "71787    71788   卓仁       1      1        1\n",
       "67218    67219   勋平       1      1        1\n",
       "54066    54067    允       0      1        0\n",
       "7168      7169   莹蓝       0      0        0\n",
       "29618    29619   妆戆       0      1        0\n",
       "101425  101426   中红       1      1        1\n",
       "20441    20442   悛耀       1      1        1\n",
       "2662      2663   丽凤       0      0        0\n",
       "20371    20372   荑宁       0      0        0\n",
       "108151  108152   鸣闪       1      1        1"
      ]
     },
     "execution_count": 19,
     "metadata": {},
     "output_type": "execute_result"
    }
   ],
   "source": [
    "X_test[\"preds_1\"]=preds\n",
    "X_test.head(10)"
   ]
  },
  {
   "cell_type": "code",
   "execution_count": 21,
   "metadata": {},
   "outputs": [
    {
     "name": "stdout",
     "output_type": "stream",
     "text": [
      "              precision    recall  f1-score   support\n",
      "\n",
      "           0       0.83      0.77      0.80     13299\n",
      "           1       0.83      0.88      0.85     16701\n",
      "\n",
      "   micro avg       0.83      0.83      0.83     30000\n",
      "   macro avg       0.83      0.82      0.83     30000\n",
      "weighted avg       0.83      0.83      0.83     30000\n",
      "\n",
      "精确度: 0.83\n"
     ]
    },
    {
     "data": {
      "image/png": "[encoded data removed]",
      "text/plain": [
       "<Figure size 432x288 with 1 Axes>"
      ]
     },
     "metadata": {
      "needs_background": "light"
     },
     "output_type": "display_data"
    }
   ],
   "source": [
    "print_result('gender','preds_1')"
   ]
  },
  {
   "cell_type": "code",
   "execution_count": 24,
   "metadata": {},
   "outputs": [],
   "source": [
    "# 拉普拉斯平滑\n",
    "def LaplaceSmooth(char, frequency_list, total, alpha=1.0):\n",
    "    count = frequency_list[char] * total\n",
    "    distinct_chars = len(frequency_list)\n",
    "    freq_smooth = (count + alpha ) / (total + distinct_chars * alpha)\n",
    "    return freq_smooth"
   ]
  },
  {
   "cell_type": "code",
   "execution_count": 25,
   "metadata": {},
   "outputs": [
    {
     "name": "stdout",
     "output_type": "stream",
     "text": [
      "LaplaceSmooth finished.\n"
     ]
    }
   ],
   "source": [
    "# 得到训练集中每个人的每个字的词频（Term Frequency，通常简称TF）\n",
    "train_encoded = []\n",
    "for i in X_train.index:\n",
    "    chs = X_train.loc[i, 'name']\n",
    "    row = [0., 0., 0., 0, X_train.loc[i, 'gender']]\n",
    "    for j in range(len(chs)):\n",
    "        row[2* j] = LaplaceSmooth(chs[j],counts_female,f_cnt)#counts_female[chs[j]] * 1. / f_cnt\n",
    "        row[2* j + 1] = LaplaceSmooth(chs[j],counts_male,m_cnt)#counts_male[chs[j]] * 1. / m_cnt\n",
    "    train_encoded.append(row)\n",
    "\n",
    "# 得到测试集中每个人的每个字的词频（Term Frequency，通常简称TF）\n",
    "test_encoded = []\n",
    "for i in X_test.index:\n",
    "    chs = X_test.loc[i, 'name']\n",
    "    row = [0., 0., 0., 0.,]\n",
    "    for j in range(len(chs)):\n",
    "        try:\n",
    "            row[2 * j] = LaplaceSmooth(chs[j],counts_female,f_cnt)\n",
    "        except:\n",
    "            pass\n",
    "        try:\n",
    "            row[2 * j + 1] = LaplaceSmooth(chs[j],counts_male,m_cnt)\n",
    "        except:\n",
    "            pass\n",
    "    test_encoded.append(row)\n",
    "\n",
    "# 转换为pandas.DataFrame的形式\n",
    "# 1_f是指这个人的第一个字在训练集中所有女生的字中出现的频率\n",
    "# 2_f是指这个人的第二个字在训练集中所有女生的字中出现的频率\n",
    "# 1_m是指这个人的第一个字在训练集中所有男生的字中出现的频率\n",
    "# 2_m是指这个人的第二个字在训练集中所有男生的字中出现的频率\n",
    "train_encoded = pd.DataFrame(train_encoded, columns=['1_f', '1_m', '2_f', '2_m', 'gender'])\n",
    "test_encoded = pd.DataFrame(test_encoded, columns=['1_f', '1_m', '2_f', '2_m'])\n",
    "\n",
    "# 训练GBDT模型\n",
    "clf = GradientBoostingClassifier()\n",
    "clf.fit(train_encoded.drop('gender', axis=1), train_encoded['gender'])\n",
    "preds = clf.predict(test_encoded)\n",
    "\n",
    "print('LaplaceSmooth finished.')"
   ]
  },
  {
   "cell_type": "code",
   "execution_count": 26,
   "metadata": {},
   "outputs": [
    {
     "data": {
      "text/html": [
       "<div>\n",
       "<style scoped>\n",
       "    .dataframe tbody tr th:only-of-type {\n",
       "        vertical-align: middle;\n",
       "    }\n",
       "\n",
       "    .dataframe tbody tr th {\n",
       "        vertical-align: top;\n",
       "    }\n",
       "\n",
       "    .dataframe thead th {\n",
       "        text-align: right;\n",
       "    }\n",
       "</style>\n",
       "<table border=\"1\" class=\"dataframe\">\n",
       "  <thead>\n",
       "    <tr style=\"text-align: right;\">\n",
       "      <th></th>\n",
       "      <th>id</th>\n",
       "      <th>name</th>\n",
       "      <th>gender</th>\n",
       "      <th>preds</th>\n",
       "      <th>preds_1</th>\n",
       "      <th>preds_2</th>\n",
       "    </tr>\n",
       "  </thead>\n",
       "  <tbody>\n",
       "    <tr>\n",
       "      <th>71787</th>\n",
       "      <td>71788</td>\n",
       "      <td>卓仁</td>\n",
       "      <td>1</td>\n",
       "      <td>1</td>\n",
       "      <td>1</td>\n",
       "      <td>1</td>\n",
       "    </tr>\n",
       "    <tr>\n",
       "      <th>67218</th>\n",
       "      <td>67219</td>\n",
       "      <td>勋平</td>\n",
       "      <td>1</td>\n",
       "      <td>1</td>\n",
       "      <td>1</td>\n",
       "      <td>1</td>\n",
       "    </tr>\n",
       "    <tr>\n",
       "      <th>54066</th>\n",
       "      <td>54067</td>\n",
       "      <td>允</td>\n",
       "      <td>0</td>\n",
       "      <td>1</td>\n",
       "      <td>0</td>\n",
       "      <td>0</td>\n",
       "    </tr>\n",
       "    <tr>\n",
       "      <th>7168</th>\n",
       "      <td>7169</td>\n",
       "      <td>莹蓝</td>\n",
       "      <td>0</td>\n",
       "      <td>0</td>\n",
       "      <td>0</td>\n",
       "      <td>0</td>\n",
       "    </tr>\n",
       "    <tr>\n",
       "      <th>29618</th>\n",
       "      <td>29619</td>\n",
       "      <td>妆戆</td>\n",
       "      <td>0</td>\n",
       "      <td>1</td>\n",
       "      <td>0</td>\n",
       "      <td>0</td>\n",
       "    </tr>\n",
       "    <tr>\n",
       "      <th>101425</th>\n",
       "      <td>101426</td>\n",
       "      <td>中红</td>\n",
       "      <td>1</td>\n",
       "      <td>1</td>\n",
       "      <td>1</td>\n",
       "      <td>1</td>\n",
       "    </tr>\n",
       "    <tr>\n",
       "      <th>20441</th>\n",
       "      <td>20442</td>\n",
       "      <td>悛耀</td>\n",
       "      <td>1</td>\n",
       "      <td>1</td>\n",
       "      <td>1</td>\n",
       "      <td>1</td>\n",
       "    </tr>\n",
       "    <tr>\n",
       "      <th>2662</th>\n",
       "      <td>2663</td>\n",
       "      <td>丽凤</td>\n",
       "      <td>0</td>\n",
       "      <td>0</td>\n",
       "      <td>0</td>\n",
       "      <td>0</td>\n",
       "    </tr>\n",
       "    <tr>\n",
       "      <th>20371</th>\n",
       "      <td>20372</td>\n",
       "      <td>荑宁</td>\n",
       "      <td>0</td>\n",
       "      <td>0</td>\n",
       "      <td>0</td>\n",
       "      <td>0</td>\n",
       "    </tr>\n",
       "    <tr>\n",
       "      <th>108151</th>\n",
       "      <td>108152</td>\n",
       "      <td>鸣闪</td>\n",
       "      <td>1</td>\n",
       "      <td>1</td>\n",
       "      <td>1</td>\n",
       "      <td>1</td>\n",
       "    </tr>\n",
       "  </tbody>\n",
       "</table>\n",
       "</div>"
      ],
      "text/plain": [
       "            id name  gender  preds  preds_1  preds_2\n",
       "71787    71788   卓仁       1      1        1        1\n",
       "67218    67219   勋平       1      1        1        1\n",
       "54066    54067    允       0      1        0        0\n",
       "7168      7169   莹蓝       0      0        0        0\n",
       "29618    29619   妆戆       0      1        0        0\n",
       "101425  101426   中红       1      1        1        1\n",
       "20441    20442   悛耀       1      1        1        1\n",
       "2662      2663   丽凤       0      0        0        0\n",
       "20371    20372   荑宁       0      0        0        0\n",
       "108151  108152   鸣闪       1      1        1        1"
      ]
     },
     "execution_count": 26,
     "metadata": {},
     "output_type": "execute_result"
    }
   ],
   "source": [
    "X_test[\"preds_2\"]=preds\n",
    "X_test.head(10)"
   ]
  },
  {
   "cell_type": "code",
   "execution_count": 27,
   "metadata": {},
   "outputs": [
    {
     "name": "stdout",
     "output_type": "stream",
     "text": [
      "              precision    recall  f1-score   support\n",
      "\n",
      "           0       0.83      0.77      0.80     13299\n",
      "           1       0.83      0.88      0.85     16701\n",
      "\n",
      "   micro avg       0.83      0.83      0.83     30000\n",
      "   macro avg       0.83      0.82      0.83     30000\n",
      "weighted avg       0.83      0.83      0.83     30000\n",
      "\n",
      "精确度: 0.8309\n"
     ]
    },
    {
     "data": {
      "image/png": "[encoded data removed]",
      "text/plain": [
       "<Figure size 432x288 with 1 Axes>"
      ]
     },
     "metadata": {
      "needs_background": "light"
     },
     "output_type": "display_data"
    }
   ],
   "source": [
    "print_result('gender','preds_2')"
   ]
  },
  {
   "cell_type": "code",
   "execution_count": 1,
   "metadata": {},
   "outputs": [],
   "source": [
    "#import numpy as np\n",
    "def caculate_kappa(lst):\n",
    "    #lst=np.array(lst).reshape(2,2)\n",
    "    a,b,c,d=lst[0],lst[1],lst[2],lst[3]\n",
    "    kappa=((a+d)/(a+b+c+d)-((a+b)*(a+c)+(b+d)*(c+d))/(a+b+c+d)**2)/(1-((a+b)*(a+c)+(b+d)*(c+d))/(a+b+c+d)**2)\n",
    "    return kappa"
   ]
  },
  {
   "cell_type": "code",
   "execution_count": 4,
   "metadata": {},
   "outputs": [
    {
     "data": {
      "text/plain": [
       "0.6548114225206988"
      ]
     },
     "execution_count": 4,
     "metadata": {},
     "output_type": "execute_result"
    }
   ],
   "source": [
    "caculate_kappa([10274,3025,2048,14653])"
   ]
  },
  {
   "cell_type": "code",
   "execution_count": null,
   "metadata": {},
   "outputs": [],
   "source": []
  }
 ],
 "metadata": {
  "kernelspec": {
   "display_name": "Python 3",
   "language": "python",
   "name": "python3"
  },
  "language_info": {
   "codemirror_mode": {
    "name": "ipython",
    "version": 3
   },
   "file_extension": ".py",
   "mimetype": "text/x-python",
   "name": "python",
   "nbconvert_exporter": "python",
   "pygments_lexer": "ipython3",
   "version": "3.7.3"
  }
 },
 "nbformat": 4,
 "nbformat_minor": 2
}
